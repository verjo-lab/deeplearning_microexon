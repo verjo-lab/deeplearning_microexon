{
 "cells": [
  {
   "cell_type": "code",
   "execution_count": 1,
   "metadata": {},
   "outputs": [],
   "source": [
    "#!pip uninstall Keras -y ; pip install Keras==2.3.0\n",
    "#!conda install -c bioconda pybedtools -y \n",
    "#!conda install -c bioconda pybigwig -y \n",
    "#!conda install -c anaconda tensorflow==1.15.0 -y \n",
    "#!pip install google\n",
    "#!pip install protobuf\n",
    "#!pip install tensorflow-gpu"
   ]
  },
  {
   "cell_type": "code",
   "execution_count": 2,
   "metadata": {},
   "outputs": [
    {
     "name": "stderr",
     "output_type": "stream",
     "text": [
      "Using TensorFlow backend.\n"
     ]
    }
   ],
   "source": [
    "from keras.models import load_model\n",
    "import numpy as np\n",
    "import pyBigWig\n",
    "import pybedtools"
   ]
  },
  {
   "cell_type": "code",
   "execution_count": 13,
   "metadata": {},
   "outputs": [],
   "source": [
    "model_file = '../Merged_100_filters_conservation_all_strands_merged_model_first_test-40-0.71.hdf5'"
   ]
  },
  {
   "cell_type": "code",
   "execution_count": 14,
   "metadata": {},
   "outputs": [
    {
     "name": "stdout",
     "output_type": "stream",
     "text": [
      "WARNING:tensorflow:From /root/miniconda2/lib/python2.7/site-packages/tensorflow_core/python/ops/resource_variable_ops.py:1630: calling __init__ (from tensorflow.python.ops.resource_variable_ops) with constraint is deprecated and will be removed in a future version.\n",
      "Instructions for updating:\n",
      "If using Keras pass *_constraint arguments to layers.\n",
      "WARNING:tensorflow:From /root/miniconda2/lib/python2.7/site-packages/tensorflow_core/python/ops/nn_impl.py:183: where (from tensorflow.python.ops.array_ops) is deprecated and will be removed in a future version.\n",
      "Instructions for updating:\n",
      "Use tf.where in 2.0, which has the same broadcast rule as np.where\n",
      "WARNING:tensorflow:From /root/miniconda2/lib/python2.7/site-packages/keras/backend/tensorflow_backend.py:422: The name tf.global_variables is deprecated. Please use tf.compat.v1.global_variables instead.\n",
      "\n"
     ]
    }
   ],
   "source": [
    "model_merged = load_model(model_file)\n"
   ]
  },
  {
   "cell_type": "code",
   "execution_count": 15,
   "metadata": {},
   "outputs": [],
   "source": [
    "base_encode = {\n",
    "    'A': [0, 0, 0, 1],\n",
    "    'C': [0, 0, 1, 0],\n",
    "    'T': [0, 1, 0, 0],\n",
    "    'G': [1, 0, 0, 0]\n",
    "}"
   ]
  },
  {
   "cell_type": "code",
   "execution_count": 16,
   "metadata": {},
   "outputs": [
    {
     "name": "stdout",
     "output_type": "stream",
     "text": [
      "/srv/notebooks/microexon_predictor\n"
     ]
    }
   ],
   "source": [
    "!pwd"
   ]
  },
  {
   "cell_type": "code",
   "execution_count": 25,
   "metadata": {},
   "outputs": [
    {
     "name": "stdout",
     "output_type": "stream",
     "text": [
      "--2020-02-28 17:26:47--  http://hgdownload.cse.ucsc.edu/goldenpath/hg19/phastCons100way/hg19.100way.phastCons.bw\n",
      "Resolving hgdownload.cse.ucsc.edu (hgdownload.cse.ucsc.edu)... 128.114.119.163\n",
      "Connecting to hgdownload.cse.ucsc.edu (hgdownload.cse.ucsc.edu)|128.114.119.163|:80... connected.\n",
      "HTTP request sent, awaiting response... 200 OK\n",
      "Length: 5777277074 (5.4G) [text/plain]\n",
      "Saving to: 'hg19.100way.phastCons.bw'\n",
      "\n",
      "hg19.100way.phastCo 100%[===================>]   5.38G  9.51MB/s    in 7m 0s   \n",
      "\n",
      "2020-02-28 17:33:47 (13.1 MB/s) - 'hg19.100way.phastCons.bw' saved [5777277074/5777277074]\n",
      "\n"
     ]
    }
   ],
   "source": [
    "!wget http://hgdownload.cse.ucsc.edu/goldenpath/hg19/phastCons100way/hg19.100way.phastCons.bw"
   ]
  },
  {
   "cell_type": "code",
   "execution_count": 26,
   "metadata": {},
   "outputs": [
    {
     "name": "stdout",
     "output_type": "stream",
     "text": [
      "--2020-02-28 17:33:48--  https://hgdownload.soe.ucsc.edu/goldenPath/hg19/bigZips/hg19.fa.gz\n",
      "Resolving hgdownload.soe.ucsc.edu (hgdownload.soe.ucsc.edu)... 128.114.119.163\n",
      "Connecting to hgdownload.soe.ucsc.edu (hgdownload.soe.ucsc.edu)|128.114.119.163|:443... connected.\n",
      "HTTP request sent, awaiting response... 200 OK\n",
      "Length: 948731419 (905M) [application/x-gzip]\n",
      "Saving to: 'hg19.fa.gz'\n",
      "\n",
      "hg19.fa.gz          100%[===================>] 904.78M  10.9MB/s    in 27s     \n",
      "\n",
      "2020-02-28 17:34:15 (33.2 MB/s) - 'hg19.fa.gz' saved [948731419/948731419]\n",
      "\n"
     ]
    }
   ],
   "source": [
    "!wget https://hgdownload.soe.ucsc.edu/goldenPath/hg19/bigZips/hg19.fa.gz\n",
    "!gunzip -d hg19.fa.gz"
   ]
  },
  {
   "cell_type": "code",
   "execution_count": 19,
   "metadata": {},
   "outputs": [],
   "source": [
    "GENOME=  '/srv/notebooks/microexon_predictor/hg19.fa' \n",
    "CONSERVATION_FILE = '/srv/notebooks/microexon_predictor/hg19.100way.phastCons.bw' \n",
    "\n",
    "\n"
   ]
  },
  {
   "cell_type": "code",
   "execution_count": 20,
   "metadata": {},
   "outputs": [],
   "source": [
    "def capture_values_bw(big_wig, \n",
    "                      chr,\n",
    "                      start,\n",
    "                      end):\n",
    "    try:\n",
    "        with pyBigWig.open(big_wig) as bw:\n",
    "            values_vector  = bw.values(chr, start, end)\n",
    "            return values_vector\n",
    "    except Exception as e:\n",
    "        print (chr,start,end)\n",
    "        print (e)\n",
    "        "
   ]
  },
  {
   "cell_type": "code",
   "execution_count": 21,
   "metadata": {},
   "outputs": [],
   "source": [
    "def capture_fasta_sequences(fasta_file, \n",
    "                      chr,\n",
    "                      start,\n",
    "                      end):\n",
    "\n",
    "\n",
    "\n",
    "    fasta_query = pybedtools.BedTool(\"{} {} {}\".format(chr, start, end), from_string=True)\n",
    "    fasta_query_out = fasta_query.seq((chr, start, end), fasta_file)\n",
    "    return fasta_query_out"
   ]
  },
  {
   "cell_type": "code",
   "execution_count": 22,
   "metadata": {},
   "outputs": [],
   "source": [
    "#capture_fasta_sequences(GENOME,'chr1', 3000000, 3000020 )\n",
    "\n"
   ]
  },
  {
   "cell_type": "code",
   "execution_count": null,
   "metadata": {},
   "outputs": [],
   "source": []
  },
  {
   "cell_type": "code",
   "execution_count": 23,
   "metadata": {},
   "outputs": [],
   "source": [
    "class Microexon():\n",
    "    def __init__(self, chr, start, end, strand):\n",
    "        self.chr  = chr\n",
    "        self.start  = start\n",
    "        self.end  = end\n",
    "        self.strand  = strand\n",
    "        self.flank_up_limit_start = self.start - 1\n",
    "        self.flank_up_limit_end = self.start - 101\n",
    "        self.flank_down_limit_start = self.end + 1\n",
    "        self.flank_down_limit_end = self.end + 101\n",
    "        self.conservation_values_up = None\n",
    "        self.conservation_values_down = None\n",
    "        self.seq_values_up = None\n",
    "        self.seq_values_down = None\n",
    "        self.set_values()\n",
    "        self.encode_dna_up = self.encoding_dna_sequence(self.seq_values_up)\n",
    "        self.encode_dna_down = self.encoding_dna_sequence(self.seq_values_down) \n",
    "        \n",
    "        \n",
    "\n",
    "        \n",
    "    def set_values(self):\n",
    "        '''\n",
    "\n",
    "        '''\n",
    "        self.conservation_values_up = np.array(capture_values_bw(CONSERVATION_FILE,\n",
    "                          self.chr,\n",
    "                          self.flank_up_limit_end,\n",
    "                          self.flank_up_limit_start)).reshape(1,100,1)\n",
    "        \n",
    "        self.conservation_values_down = np.array(capture_values_bw(CONSERVATION_FILE,\n",
    "                  self.chr,\n",
    "                  self.flank_down_limit_start,\n",
    "                  self.flank_down_limit_end)).reshape(1,100,1)\n",
    "\n",
    "        \n",
    "        self.seq_values_up = capture_fasta_sequences(GENOME,\n",
    "                          self.chr,\n",
    "                          self.flank_up_limit_end,\n",
    "                          self.flank_up_limit_start)\n",
    "        \n",
    "        self.seq_values_down = capture_fasta_sequences(GENOME,\n",
    "                  self.chr,\n",
    "                  self.flank_down_limit_start,\n",
    "                  self.flank_down_limit_end)\n",
    "        \n",
    "        \n",
    "#         print (map(len, [self.conservation_values_up,\n",
    "#                          self.conservation_values_down,\n",
    "#                         self.seq_values_up,\n",
    "#                         self.seq_values_down,]))\n",
    "        \n",
    "    def encoding_dna_sequence(self, x):\n",
    "        return np.array([base_encode[x_nucleo.upper()] for x_nucleo in x ])\n",
    "    \n",
    "    \n",
    "    \n",
    "    def prediction(self):\n",
    "        '''I need to flip strands at this point'''\n",
    "        if self.strand == '+':\n",
    "            out_prob = model_merged.predict([self.encode_dna_up.reshape(1, 100, 4),\n",
    "                     self.conservation_values_up.reshape(1,100,1),\n",
    "                     self.encode_dna_down.reshape(1, 100, 4),\n",
    "                     self.conservation_values_down.reshape(1,100,1)] )\n",
    "            \n",
    "            \n",
    "        if self.strand == '-':\n",
    "            out_prob = model_merged.predict([self.encode_dna_down[::-1].reshape(1, 100, 4),\n",
    "                     self.conservation_values_down[::-1].reshape(1, 100, 1),\n",
    "                     self.encode_dna_up[::-1].reshape(1, 100, 4),\n",
    "                     self.conservation_values_up[::-1].reshape(1,100,1)] )\n",
    "        \n",
    "        print (out_prob[0][0])\n",
    "        \n",
    "        \n",
    "        "
   ]
  },
  {
   "cell_type": "code",
   "execution_count": null,
   "metadata": {},
   "outputs": [],
   "source": []
  },
  {
   "cell_type": "code",
   "execution_count": 24,
   "metadata": {},
   "outputs": [
    {
     "name": "stdout",
     "output_type": "stream",
     "text": [
      "0.6618371\n"
     ]
    }
   ],
   "source": [
    "m1 = Microexon('chr1', 3000000, 3000020, '-')\n",
    "m1.prediction()"
   ]
  },
  {
   "cell_type": "code",
   "execution_count": null,
   "metadata": {},
   "outputs": [],
   "source": []
  },
  {
   "cell_type": "code",
   "execution_count": null,
   "metadata": {},
   "outputs": [],
   "source": []
  }
 ],
 "metadata": {
  "kernelspec": {
   "display_name": "Python 2",
   "language": "python",
   "name": "python2"
  },
  "language_info": {
   "codemirror_mode": {
    "name": "ipython",
    "version": 2
   },
   "file_extension": ".py",
   "mimetype": "text/x-python",
   "name": "python",
   "nbconvert_exporter": "python",
   "pygments_lexer": "ipython2",
   "version": "2.7.17"
  }
 },
 "nbformat": 4,
 "nbformat_minor": 2
}
